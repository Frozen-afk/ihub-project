{
 "cells": [
  {
   "cell_type": "code",
   "execution_count": 18,
   "id": "ff4ecbd1-29cf-43a0-8b03-b65f35cbe582",
   "metadata": {},
   "outputs": [
    {
     "name": "stdin",
     "output_type": "stream",
     "text": [
      "What are you looking for?  guitar\n"
     ]
    }
   ],
   "source": [
    "from transformers import CLIPProcessor, CLIPModel\n",
    "from PIL import Image\n",
    "import torch\n",
    "import os\n",
    "\n",
    "# Load model and processor\n",
    "model_name = \"openai/clip-vit-base-patch32\"\n",
    "model = CLIPModel.from_pretrained(model_name)\n",
    "processor = CLIPProcessor.from_pretrained(model_name)\n",
    "\n",
    "# Use GPU if available\n",
    "device = torch.device(\"cuda\" if torch.cuda.is_available() else \"cpu\")\n",
    "model = model.to(device)\n",
    "\n",
    "# Ask user for a text query\n",
    "query = input(\"What are you looking for? \").strip()\n",
    "\n",
    "# Set the gallery directory\n",
    "gallery_dir = \"gallery\"\n",
    "\n",
    "# Collect all images from gallery\n",
    "gallery_filenames = []\n",
    "gallery_images = []\n",
    "\n",
    "for filename in os.listdir(gallery_dir):\n",
    "    if filename.lower().endswith((\".jpg\", \".jpeg\", \".png\", \".webp\")):\n",
    "        path = os.path.join(gallery_dir, filename)\n",
    "        try:\n",
    "            img = Image.open(path).convert(\"RGB\")\n",
    "            gallery_images.append(img)\n",
    "            gallery_filenames.append(path)\n",
    "        except Exception as e:\n",
    "            print(f\"Could not open {filename}: {e}\")\n",
    "\n",
    "# Check if any images were loaded\n",
    "if not gallery_images:\n",
    "    print(\"No valid images found in the gallery folder.\")\n",
    "    exit()\n",
    "\n",
    "# Encode the text query\n",
    "text_inputs = processor(text=[query], return_tensors=\"pt\").to(device)\n",
    "with torch.no_grad():\n",
    "    text_features = model.get_text_features(**text_inputs)\n",
    "    text_features = text_features / text_features.norm(p=2, dim=-1, keepdim=True)\n",
    "\n",
    "# Encode all gallery images\n",
    "image_inputs = processor(images=gallery_images, return_tensors=\"pt\", padding=True).to(device)\n",
    "with torch.no_grad():\n",
    "    image_features = model.get_image_features(**image_inputs)\n",
    "    image_features = image_features / image_features.norm(p=2, dim=-1, keepdim=True)\n",
    "\n",
    "# Compute cosine similarity\n",
    "similarities = torch.matmul(text_features, image_features.T) \n",
    "\n",
    "# Find top match\n",
    "best_index = similarities.argmax().item()\n",
    "best_filename = gallery_filenames[best_index]\n",
    "best_image = gallery_images[best_index]\n",
    "\n",
    "\n",
    "best_image.show(title=f\"Best match: {os.path.basename(best_filename)}\")\n",
    "\n"
   ]
  },
  {
   "cell_type": "code",
   "execution_count": null,
   "id": "cce4b8d1-2453-4791-9887-6530468befa4",
   "metadata": {},
   "outputs": [],
   "source": []
  }
 ],
 "metadata": {
  "kernelspec": {
   "display_name": "Python 3 (ipykernel)",
   "language": "python",
   "name": "python3"
  },
  "language_info": {
   "codemirror_mode": {
    "name": "ipython",
    "version": 3
   },
   "file_extension": ".py",
   "mimetype": "text/x-python",
   "name": "python",
   "nbconvert_exporter": "python",
   "pygments_lexer": "ipython3",
   "version": "3.13.7"
  }
 },
 "nbformat": 4,
 "nbformat_minor": 5
}
